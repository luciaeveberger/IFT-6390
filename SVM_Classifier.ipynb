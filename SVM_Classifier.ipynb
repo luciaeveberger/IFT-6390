{
  "cells": [
    {
      "cell_type": "code",
      "execution_count": 3,
      "id": "51247f53",
      "metadata": {
        "id": "51247f53"
      },
      "outputs": [],
      "source": [
        "import pandas as pd\n",
        "from sklearn.preprocessing import StandardScaler\n",
        "import numpy as np\n",
        "from sklearn import preprocessing\n",
        "from sklearn.model_selection import train_test_split\n",
        "from sklearn.metrics import confusion_matrix\n",
        "from sklearn.model_selection import validation_curve\n",
        "from sklearn.model_selection import KFold\n",
        "from sklearn.model_selection import cross_val_score\n",
        "from sklearn.model_selection import GridSearchCV\n",
        "from sklearn.svm import SVC\n",
        "from sklearn.metrics import accuracy_score\n",
        "from sklearn import metrics\n",
        "from sklearn.metrics import confusion_matrix\n",
        "from scipy.stats import mode\n",
        "import numpy as np\n",
        "from time import time\n",
        "import pandas as pd\n",
        "import os\n",
        "import matplotlib.pyplot as matplot\n",
        "import matplotlib\n",
        "%matplotlib inline\n",
        "\n",
        "import random\n",
        "matplot.rcdefaults()\n",
        "from IPython.display import display, HTML\n",
        "from itertools import chain\n",
        "from sklearn.metrics import confusion_matrix\n",
        "from sklearn.metrics import accuracy_score\n",
        "import seaborn as sb\n",
        "from sklearn.model_selection import ParameterGrid\n",
        "from sklearn.svm import SVC, LinearSVC\n",
        "import warnings\n",
        "warnings.filterwarnings('ignore')"
      ]
    },
    {
      "cell_type": "markdown",
      "source": [
        "# Data Processing"
      ],
      "metadata": {
        "id": "qzLXsDUjHfF2"
      },
      "id": "qzLXsDUjHfF2"
    },
    {
      "cell_type": "code",
      "source": [
        "from google.colab import drive\n",
        "drive.mount('/content/drive')\n",
        "import pandas as pd\n"
      ],
      "metadata": {
        "colab": {
          "base_uri": "https://localhost:8080/"
        },
        "id": "AN2bNbYCKcaV",
        "outputId": "9d5e74e6-3044-4d10-9c13-e966da29cdd0"
      },
      "id": "AN2bNbYCKcaV",
      "execution_count": 4,
      "outputs": [
        {
          "output_type": "stream",
          "name": "stdout",
          "text": [
            "Mounted at /content/drive\n"
          ]
        }
      ]
    },
    {
      "cell_type": "code",
      "execution_count": 27,
      "id": "9ddf5320",
      "metadata": {
        "id": "9ddf5320"
      },
      "outputs": [],
      "source": [
        "train_data = pd.read_csv('/content/drive/MyDrive/Colab Notebooks/logistic_regression/train.csv', delimiter=',')\n",
        "test_data = pd.read_csv('/content/drive/MyDrive/Colab Notebooks/logistic_regression/test.csv', delimiter=',')\n",
        "train_results = pd.read_csv(\"/content/drive/MyDrive/Colab Notebooks/logistic_regression/train_result.csv\", delimiter=',')\n",
        "y_train = train_results['Class']\n",
        "train_data = train_data.iloc[: , :-1]\n",
        "test_data = test_data.iloc[: , :-1]"
      ]
    },
    {
      "cell_type": "code",
      "execution_count": 24,
      "id": "cd986134",
      "metadata": {
        "id": "cd986134"
      },
      "outputs": [],
      "source": [
        "# train_data[train_data < 0.3] = 0\n",
        "# train_data[train_data > 0.3] = 255"
      ]
    },
    {
      "cell_type": "code",
      "source": [
        "train_data.shape\n",
        "#y_train.shape"
      ],
      "metadata": {
        "colab": {
          "base_uri": "https://localhost:8080/"
        },
        "id": "gKel1cwjLKYu",
        "outputId": "4ec9751b-e01d-42a7-de12-25373534dade"
      },
      "id": "gKel1cwjLKYu",
      "execution_count": 29,
      "outputs": [
        {
          "output_type": "execute_result",
          "data": {
            "text/plain": [
              "(50000, 1568)"
            ]
          },
          "metadata": {},
          "execution_count": 29
        }
      ]
    },
    {
      "cell_type": "code",
      "execution_count": 7,
      "id": "af79301a",
      "metadata": {
        "colab": {
          "base_uri": "https://localhost:8080/"
        },
        "id": "af79301a",
        "outputId": "c86af91b-4662-4fd4-c099-c6873e8c8eb8"
      },
      "outputs": [
        {
          "output_type": "execute_result",
          "data": {
            "text/plain": [
              "Feature 1       0.000000e+00\n",
              "Feature 2       0.000000e+00\n",
              "Feature 3       0.000000e+00\n",
              "Feature 4       0.000000e+00\n",
              "Feature 5       0.000000e+00\n",
              "                    ...     \n",
              "Feature 1564   -3.843456e-17\n",
              "Feature 1565   -3.560401e-17\n",
              "Feature 1566   -2.275294e-17\n",
              "Feature 1567   -5.484856e-18\n",
              "Feature 1568   -5.032500e-19\n",
              "Length: 1568, dtype: float64"
            ]
          },
          "metadata": {},
          "execution_count": 7
        }
      ],
      "source": [
        "np.min(test_data)"
      ]
    },
    {
      "cell_type": "code",
      "execution_count": 8,
      "id": "494b823c",
      "metadata": {
        "colab": {
          "base_uri": "https://localhost:8080/"
        },
        "id": "494b823c",
        "outputId": "0428fb08-3183-4a1e-cd9c-fd24226f2368"
      },
      "outputs": [
        {
          "output_type": "execute_result",
          "data": {
            "text/plain": [
              "0       0.996094\n",
              "1       0.996094\n",
              "2       0.996094\n",
              "3       0.996094\n",
              "4       0.996094\n",
              "          ...   \n",
              "9995    0.996094\n",
              "9996    0.996094\n",
              "9997    0.996094\n",
              "9998    0.996094\n",
              "9999    0.996094\n",
              "Length: 10000, dtype: float64"
            ]
          },
          "metadata": {},
          "execution_count": 8
        }
      ],
      "source": [
        "np.max(test_data, axis=1)"
      ]
    },
    {
      "cell_type": "code",
      "execution_count": null,
      "id": "02b84ccb",
      "metadata": {
        "id": "02b84ccb",
        "outputId": "d18c2f43-5b78-4985-e072-ad04e679f953"
      },
      "outputs": [
        {
          "data": {
            "image/png": "[encoded data removed]",
            "text/plain": [
              "<Figure size 800x400 with 1 Axes>"
            ]
          },
          "metadata": {},
          "output_type": "display_data"
        }
      ],
      "source": [
        "import matplotlib.pylab as plt\n",
        "from matplotlib.pylab import rcParams\n",
        "from matplotlib import pyplot\n",
        "rcParams['figure.figsize'] = 12, 4\n",
        "# get_ipython().magic(u'matplotlib inline')\n",
        "%matplotlib inline\n",
        "\n",
        "def pixel_mat():\n",
        "    # we're working with train_df so we want to drop the label column\n",
        "    vec = train_data.values[20]\n",
        "    # numpy provides the reshape() function to reorganize arrays into specified shapes\n",
        "    pixel_mat = vec.reshape(28,56)\n",
        "    return pixel_mat\n",
        "\n",
        "plt.matshow(pixel_mat(), cmap=plt.cm.gray)\n",
        "plt.title(\"Digit Label: %d\")\n",
        "plt.show()"
      ]
    },
    {
      "cell_type": "code",
      "execution_count": null,
      "id": "85b1fe6a",
      "metadata": {
        "id": "85b1fe6a",
        "outputId": "fb4852fe-72b0-4a75-c5f3-7507d7efc6e4"
      },
      "outputs": [
        {
          "name": "stdout",
          "output_type": "stream",
          "text": [
            "272\n"
          ]
        }
      ],
      "source": [
        "zero_cols = list(set(train_data.columns[(train_data == 0).all()].tolist() + test_data.columns[(test_data == 0).all()].tolist()))\n",
        "print(len(zero_cols))"
      ]
    },
    {
      "cell_type": "code",
      "execution_count": 16,
      "id": "897995f3",
      "metadata": {
        "colab": {
          "base_uri": "https://localhost:8080/",
          "height": 190
        },
        "id": "897995f3",
        "outputId": "fd901f74-eead-407d-a46a-d05074c94f4e"
      },
      "outputs": [
        {
          "output_type": "error",
          "ename": "NameError",
          "evalue": "ignored",
          "traceback": [
            "\u001b[0;31m---------------------------------------------------------------------------\u001b[0m",
            "\u001b[0;31mNameError\u001b[0m                                 Traceback (most recent call last)",
            "\u001b[0;32m<ipython-input-16-73d770cbb72d>\u001b[0m in \u001b[0;36m<module>\u001b[0;34m\u001b[0m\n\u001b[0;32m----> 1\u001b[0;31m \u001b[0mtrain_data\u001b[0m \u001b[0;34m=\u001b[0m \u001b[0mtrain_data\u001b[0m\u001b[0;34m.\u001b[0m\u001b[0mdrop\u001b[0m\u001b[0;34m(\u001b[0m\u001b[0mzero_cols\u001b[0m\u001b[0;34m,\u001b[0m \u001b[0maxis\u001b[0m\u001b[0;34m=\u001b[0m\u001b[0;36m1\u001b[0m\u001b[0;34m)\u001b[0m\u001b[0;34m\u001b[0m\u001b[0;34m\u001b[0m\u001b[0m\n\u001b[0m\u001b[1;32m      2\u001b[0m \u001b[0mtest_data\u001b[0m \u001b[0;34m=\u001b[0m \u001b[0mtest_data\u001b[0m\u001b[0;34m.\u001b[0m\u001b[0mdrop\u001b[0m\u001b[0;34m(\u001b[0m\u001b[0mzero_cols\u001b[0m\u001b[0;34m,\u001b[0m \u001b[0maxis\u001b[0m\u001b[0;34m=\u001b[0m\u001b[0;36m1\u001b[0m\u001b[0;34m)\u001b[0m\u001b[0;34m\u001b[0m\u001b[0;34m\u001b[0m\u001b[0m\n",
            "\u001b[0;31mNameError\u001b[0m: name 'zero_cols' is not defined"
          ]
        }
      ],
      "source": [
        "train_data = train_data.drop(zero_cols, axis=1)\n",
        "test_data = test_data.drop(zero_cols, axis=1)"
      ]
    },
    {
      "cell_type": "code",
      "execution_count": null,
      "id": "f34d9718",
      "metadata": {
        "id": "f34d9718"
      },
      "outputs": [],
      "source": [
        "\n"
      ]
    },
    {
      "cell_type": "markdown",
      "source": [
        "# Training, Validation Test Split"
      ],
      "metadata": {
        "id": "zeDB9op5HjKg"
      },
      "id": "zeDB9op5HjKg"
    },
    {
      "cell_type": "code",
      "execution_count": 30,
      "id": "cf3ac00b",
      "metadata": {
        "colab": {
          "base_uri": "https://localhost:8080/"
        },
        "id": "cf3ac00b",
        "outputId": "92990b1f-bfc4-4d84-b491-846b51b53122"
      },
      "outputs": [
        {
          "output_type": "stream",
          "name": "stdout",
          "text": [
            "X: (50000, 1568)\n",
            "test_data: (10000, 1568)\n"
          ]
        }
      ],
      "source": [
        "train_data = train_data/255.0\n",
        "test_data = test_data/255.0\n",
        "\n",
        "print(\"X:\", train_data.shape)\n",
        "print(\"test_data:\", test_data.shape)\n",
        "\n",
        "X_train = preprocessing.scale(train_data)\n",
        "X_test = preprocessing.scale(test_data)"
      ]
    },
    {
      "cell_type": "code",
      "execution_count": 18,
      "id": "3fdd059f",
      "metadata": {
        "colab": {
          "base_uri": "https://localhost:8080/"
        },
        "id": "3fdd059f",
        "outputId": "447e8777-3c61-4ec9-f1a2-13720fe779c5"
      },
      "outputs": [
        {
          "output_type": "stream",
          "name": "stdout",
          "text": [
            "0.0\n"
          ]
        }
      ],
      "source": [
        "print(np.min(train_data.values[0]))"
      ]
    },
    {
      "cell_type": "code",
      "execution_count": null,
      "id": "c69bd9e0",
      "metadata": {
        "id": "c69bd9e0"
      },
      "outputs": [],
      "source": [
        "X_train, X_val, y_train, y_val = train_test_split(X_train, y_train, test_size = 0.2, train_size = 0.8, random_state = 10)"
      ]
    },
    {
      "cell_type": "markdown",
      "source": [
        "# SVN Modelling Matrix"
      ],
      "metadata": {
        "id": "wB5n-XLQHpGU"
      },
      "id": "wB5n-XLQHpGU"
    },
    {
      "cell_type": "code",
      "execution_count": null,
      "id": "ef5ddf97",
      "metadata": {
        "id": "ef5ddf97",
        "outputId": "da86f3cd-95bb-4230-cc33-7b19763ef615"
      },
      "outputs": [
        {
          "name": "stdout",
          "output_type": "stream",
          "text": [
            "accuracy: 0.6897 \n",
            "\n",
            "[[ 98   0   3   0   0   4   0   0   1   0   0   0   0   0   0   0   0   0\n",
            "    0]\n",
            " [  1 201   2   1   1   2   1   2   1   2   0   0   0   0   0   0   0   0\n",
            "    0]\n",
            " [  2   2 296  11  13   2   8   8  13   2   2   0   1   0   0   0   0   0\n",
            "    0]\n",
            " [  0   1   9 305   8  18   5   8  16  14   7   4   0   0   0   0   0   0\n",
            "    0]\n",
            " [  1   2   9  20 377  13  22  13   7  17  14   6   3   0   0   1   0   0\n",
            "    0]\n",
            " [  1   0   5  21  17 426  12  28  20  17  30  19   2   1   0   0   1   0\n",
            "    0]\n",
            " [  2   1   4   5  24  15 511  25  30  21  20  21  12   1   4   1   1   0\n",
            "    0]\n",
            " [  1   4   5   8  13  16  24 530  18  38  24  31  31   7   9   4   1   0\n",
            "    0]\n",
            " [  0  10   7  14   8  17  31  25 642  34  44  11   9  31   7   5   0   1\n",
            "    0]\n",
            " [  0   0   4  10  20   9  19  49  36 672  29  49  23  23  16  11   1   1\n",
            "    0]\n",
            " [  0   0   4  20  19  33  14  31  35  38 636  36  40  20  11  12   8   3\n",
            "    0]\n",
            " [  0   0   0   5   9  12  27  26  35  47  46 499  21  31  14   8  12   8\n",
            "    0]\n",
            " [  0   0   0   2   1   3  12  20  23  32  53  26 408  18  29   7   7  11\n",
            "    2]\n",
            " [  0   0   0   0   0   1  12  17  27  30  24  25  23 390  20  19   4   2\n",
            "    8]\n",
            " [  0   0   0   0   0   0   4  13  10  35  25  32  38  23 275  14  13   4\n",
            "    2]\n",
            " [  0   0   0   0   0   0   0   6  16  19  29  24  21  14   7 251   6   2\n",
            "    0]\n",
            " [  0   0   0   0   0   0   0   0   5   7   8  32  14  17  17   6 197   3\n",
            "   10]\n",
            " [  0   0   0   0   0   1   0   0   4   2   6   8  29   3   3   7   7 119\n",
            "    1]\n",
            " [  0   0   0   0   0   0   0   0   0   0   1   1   2   6   0   0   7   4\n",
            "   64]]\n"
          ]
        }
      ],
      "source": [
        "model_linear = SVC(gamma=\"scale\",class_weight=\"balanced\",C=10)\n",
        "model_linear.fit(X_train, y_train)\n",
        "y_pred = model_linear.predict(X_val)\n",
        "\n",
        "print(\"accuracy:\", metrics.accuracy_score(y_true=y_val, y_pred=y_pred), \"\\n\")\n",
        "\n",
        "# cm\n",
        "print(metrics.confusion_matrix(y_true=y_val, y_pred=y_pred))"
      ]
    },
    {
      "cell_type": "code",
      "execution_count": null,
      "id": "00d1587b",
      "metadata": {
        "id": "00d1587b"
      },
      "outputs": [],
      "source": [
        "# model\n",
        "non_linear_model = SVC(kernel='rbf')\n",
        "\n",
        "# fit\n",
        "non_linear_model.fit(X_train, y_train)\n",
        "\n",
        "# predict\n",
        "y_pred = non_linear_model.predict(X_test)\n"
      ]
    },
    {
      "cell_type": "code",
      "execution_count": null,
      "id": "44814422",
      "metadata": {
        "id": "44814422",
        "outputId": "64e43fb9-49a9-4b0d-b667-202085beafa5"
      },
      "outputs": [
        {
          "data": {
            "text/html": [
              "<style>#sk-container-id-3 {color: black;background-color: white;}#sk-container-id-3 pre{padding: 0;}#sk-container-id-3 div.sk-toggleable {background-color: white;}#sk-container-id-3 label.sk-toggleable__label {cursor: pointer;display: block;width: 100%;margin-bottom: 0;padding: 0.3em;box-sizing: border-box;text-align: center;}#sk-container-id-3 label.sk-toggleable__label-arrow:before {content: \"▸\";float: left;margin-right: 0.25em;color: #696969;}#sk-container-id-3 label.sk-toggleable__label-arrow:hover:before {color: black;}#sk-container-id-3 div.sk-estimator:hover label.sk-toggleable__label-arrow:before {color: black;}#sk-container-id-3 div.sk-toggleable__content {max-height: 0;max-width: 0;overflow: hidden;text-align: left;background-color: #f0f8ff;}#sk-container-id-3 div.sk-toggleable__content pre {margin: 0.2em;color: black;border-radius: 0.25em;background-color: #f0f8ff;}#sk-container-id-3 input.sk-toggleable__control:checked~div.sk-toggleable__content {max-height: 200px;max-width: 100%;overflow: auto;}#sk-container-id-3 input.sk-toggleable__control:checked~label.sk-toggleable__label-arrow:before {content: \"▾\";}#sk-container-id-3 div.sk-estimator input.sk-toggleable__control:checked~label.sk-toggleable__label {background-color: #d4ebff;}#sk-container-id-3 div.sk-label input.sk-toggleable__control:checked~label.sk-toggleable__label {background-color: #d4ebff;}#sk-container-id-3 input.sk-hidden--visually {border: 0;clip: rect(1px 1px 1px 1px);clip: rect(1px, 1px, 1px, 1px);height: 1px;margin: -1px;overflow: hidden;padding: 0;position: absolute;width: 1px;}#sk-container-id-3 div.sk-estimator {font-family: monospace;background-color: #f0f8ff;border: 1px dotted black;border-radius: 0.25em;box-sizing: border-box;margin-bottom: 0.5em;}#sk-container-id-3 div.sk-estimator:hover {background-color: #d4ebff;}#sk-container-id-3 div.sk-parallel-item::after {content: \"\";width: 100%;border-bottom: 1px solid gray;flex-grow: 1;}#sk-container-id-3 div.sk-label:hover label.sk-toggleable__label {background-color: #d4ebff;}#sk-container-id-3 div.sk-serial::before {content: \"\";position: absolute;border-left: 1px solid gray;box-sizing: border-box;top: 0;bottom: 0;left: 50%;z-index: 0;}#sk-container-id-3 div.sk-serial {display: flex;flex-direction: column;align-items: center;background-color: white;padding-right: 0.2em;padding-left: 0.2em;position: relative;}#sk-container-id-3 div.sk-item {position: relative;z-index: 1;}#sk-container-id-3 div.sk-parallel {display: flex;align-items: stretch;justify-content: center;background-color: white;position: relative;}#sk-container-id-3 div.sk-item::before, #sk-container-id-3 div.sk-parallel-item::before {content: \"\";position: absolute;border-left: 1px solid gray;box-sizing: border-box;top: 0;bottom: 0;left: 50%;z-index: -1;}#sk-container-id-3 div.sk-parallel-item {display: flex;flex-direction: column;z-index: 1;position: relative;background-color: white;}#sk-container-id-3 div.sk-parallel-item:first-child::after {align-self: flex-end;width: 50%;}#sk-container-id-3 div.sk-parallel-item:last-child::after {align-self: flex-start;width: 50%;}#sk-container-id-3 div.sk-parallel-item:only-child::after {width: 0;}#sk-container-id-3 div.sk-dashed-wrapped {border: 1px dashed gray;margin: 0 0.4em 0.5em 0.4em;box-sizing: border-box;padding-bottom: 0.4em;background-color: white;}#sk-container-id-3 div.sk-label label {font-family: monospace;font-weight: bold;display: inline-block;line-height: 1.2em;}#sk-container-id-3 div.sk-label-container {text-align: center;}#sk-container-id-3 div.sk-container {/* jupyter's `normalize.less` sets `[hidden] { display: none; }` but bootstrap.min.css set `[hidden] { display: none !important; }` so we also need the `!important` here to be able to override the default hidden behavior on the sphinx rendered scikit-learn.org. See: https://github.com/scikit-learn/scikit-learn/issues/21755 */display: inline-block !important;position: relative;}#sk-container-id-3 div.sk-text-repr-fallback {display: none;}</style><div id=\"sk-container-id-3\" class=\"sk-top-container\"><div class=\"sk-text-repr-fallback\"><pre>SVC(C=10, class_weight=&#x27;balanced&#x27;)</pre><b>In a Jupyter environment, please rerun this cell to show the HTML representation or trust the notebook. <br />On GitHub, the HTML representation is unable to render, please try loading this page with nbviewer.org.</b></div><div class=\"sk-container\" hidden><div class=\"sk-item\"><div class=\"sk-estimator sk-toggleable\"><input class=\"sk-toggleable__control sk-hidden--visually\" id=\"sk-estimator-id-5\" type=\"checkbox\" checked><label for=\"sk-estimator-id-5\" class=\"sk-toggleable__label sk-toggleable__label-arrow\">SVC</label><div class=\"sk-toggleable__content\"><pre>SVC(C=10, class_weight=&#x27;balanced&#x27;)</pre></div></div></div></div></div>"
            ],
            "text/plain": [
              "SVC(C=10, class_weight='balanced')"
            ]
          },
          "execution_count": 63,
          "metadata": {},
          "output_type": "execute_result"
        }
      ],
      "source": [
        "model_rbf = SVC(gamma=\"scale\",class_weight=\"balanced\",C=10, kernel='rbf')\n",
        "model_rbf.fit(X_train, y_train)"
      ]
    },
    {
      "cell_type": "code",
      "execution_count": null,
      "id": "1833f79f",
      "metadata": {
        "id": "1833f79f",
        "outputId": "5d283b79-be16-4e91-8b59-429da39d085b"
      },
      "outputs": [
        {
          "name": "stdout",
          "output_type": "stream",
          "text": [
            "accuracy: 0.7034 \n",
            "\n",
            "[[ 98   0   4   0   0   3   0   0   1   0   0   0   0   0   0   0   0   0\n",
            "    0]\n",
            " [  1 203   1   0   2   1   1   1   2   2   0   0   0   0   0   0   0   0\n",
            "    0]\n",
            " [  2   2 297  10  13   1   6  11  15   0   1   1   1   0   0   0   0   0\n",
            "    0]\n",
            " [  0   1   7 315   8  15   6  11  12  10   9   1   0   0   0   0   0   0\n",
            "    0]\n",
            " [  0   1   9  15 381  13  18  11  10  21  19   4   2   0   0   1   0   0\n",
            "    0]\n",
            " [  1   0   2  18  19 442  11  26  17  19  27  14   1   2   0   0   1   0\n",
            "    0]\n",
            " [  4   1   3   4  15  16 519  24  28  18  20  27  13   0   3   2   1   0\n",
            "    0]\n",
            " [  1   5   3   5  19  20  21 539  17  44  19  27  24   8   5   6   1   0\n",
            "    0]\n",
            " [  1   9   7  14   8  13  29  31 650  33  44   7  10  26   8   5   1   0\n",
            "    0]\n",
            " [  0   0   3   9  23   5  21  53  29 664  36  53  25  20  17  12   1   1\n",
            "    0]\n",
            " [  0   0   2  17  14  32  18  36  40  33 639  32  37  23  11  14   9   3\n",
            "    0]\n",
            " [  0   0   0   3   8  13  29  22  28  48  49 506  19  38  11   6  14   6\n",
            "    0]\n",
            " [  0   0   0   2   1   6   9  17  24  32  40  25 431  17  26   6   4  13\n",
            "    1]\n",
            " [  0   0   0   0   0   0   9  13  21  30  26  28  22 399  16  23   5   1\n",
            "    9]\n",
            " [  0   0   0   0   0   0   1  13  14  29  24  28  36  20 292  16  11   2\n",
            "    2]\n",
            " [  0   0   0   0   0   0   0   3  13  18  24  19  20  17   9 262   7   3\n",
            "    0]\n",
            " [  0   0   0   0   0   0   0   0   6   8  10  27  13  17  15   5 204   6\n",
            "    5]\n",
            " [  0   0   0   0   0   0   0   0   3   2   8   7  17   8   3   8   6 127\n",
            "    1]\n",
            " [  0   0   0   0   0   0   0   0   0   0   1   1   2   7   0   0   6   2\n",
            "   66]]\n"
          ]
        }
      ],
      "source": [
        "y_pred = model_rbf.predict(X_val)\n",
        "#from sklearn import metrics\n",
        "#from sklearn.metrics import confusion_matrix\n",
        "# accuracy\n",
        "print(\"accuracy:\", metrics.accuracy_score(y_true=y_val, y_pred=y_pred), \"\\n\")\n",
        "\n",
        "# cm\n",
        "print(metrics.confusion_matrix(y_true=y_val, y_pred=y_pred))"
      ]
    },
    {
      "cell_type": "markdown",
      "source": [
        "# Hyperparameter Tuning"
      ],
      "metadata": {
        "id": "LgqqbxzaHwfC"
      },
      "id": "LgqqbxzaHwfC"
    },
    {
      "cell_type": "code",
      "execution_count": null,
      "id": "e033c874",
      "metadata": {
        "id": "e033c874",
        "outputId": "c06d4c9a-18ef-4242-a6e3-20f9aff0c9ca"
      },
      "outputs": [
        {
          "name": "stdout",
          "output_type": "stream",
          "text": [
            "Fitting 5 folds for each of 6 candidates, totalling 30 fits\n"
          ]
        },
        {
          "data": {
            "text/html": [
              "<style>#sk-container-id-1 {color: black;background-color: white;}#sk-container-id-1 pre{padding: 0;}#sk-container-id-1 div.sk-toggleable {background-color: white;}#sk-container-id-1 label.sk-toggleable__label {cursor: pointer;display: block;width: 100%;margin-bottom: 0;padding: 0.3em;box-sizing: border-box;text-align: center;}#sk-container-id-1 label.sk-toggleable__label-arrow:before {content: \"▸\";float: left;margin-right: 0.25em;color: #696969;}#sk-container-id-1 label.sk-toggleable__label-arrow:hover:before {color: black;}#sk-container-id-1 div.sk-estimator:hover label.sk-toggleable__label-arrow:before {color: black;}#sk-container-id-1 div.sk-toggleable__content {max-height: 0;max-width: 0;overflow: hidden;text-align: left;background-color: #f0f8ff;}#sk-container-id-1 div.sk-toggleable__content pre {margin: 0.2em;color: black;border-radius: 0.25em;background-color: #f0f8ff;}#sk-container-id-1 input.sk-toggleable__control:checked~div.sk-toggleable__content {max-height: 200px;max-width: 100%;overflow: auto;}#sk-container-id-1 input.sk-toggleable__control:checked~label.sk-toggleable__label-arrow:before {content: \"▾\";}#sk-container-id-1 div.sk-estimator input.sk-toggleable__control:checked~label.sk-toggleable__label {background-color: #d4ebff;}#sk-container-id-1 div.sk-label input.sk-toggleable__control:checked~label.sk-toggleable__label {background-color: #d4ebff;}#sk-container-id-1 input.sk-hidden--visually {border: 0;clip: rect(1px 1px 1px 1px);clip: rect(1px, 1px, 1px, 1px);height: 1px;margin: -1px;overflow: hidden;padding: 0;position: absolute;width: 1px;}#sk-container-id-1 div.sk-estimator {font-family: monospace;background-color: #f0f8ff;border: 1px dotted black;border-radius: 0.25em;box-sizing: border-box;margin-bottom: 0.5em;}#sk-container-id-1 div.sk-estimator:hover {background-color: #d4ebff;}#sk-container-id-1 div.sk-parallel-item::after {content: \"\";width: 100%;border-bottom: 1px solid gray;flex-grow: 1;}#sk-container-id-1 div.sk-label:hover label.sk-toggleable__label {background-color: #d4ebff;}#sk-container-id-1 div.sk-serial::before {content: \"\";position: absolute;border-left: 1px solid gray;box-sizing: border-box;top: 0;bottom: 0;left: 50%;z-index: 0;}#sk-container-id-1 div.sk-serial {display: flex;flex-direction: column;align-items: center;background-color: white;padding-right: 0.2em;padding-left: 0.2em;position: relative;}#sk-container-id-1 div.sk-item {position: relative;z-index: 1;}#sk-container-id-1 div.sk-parallel {display: flex;align-items: stretch;justify-content: center;background-color: white;position: relative;}#sk-container-id-1 div.sk-item::before, #sk-container-id-1 div.sk-parallel-item::before {content: \"\";position: absolute;border-left: 1px solid gray;box-sizing: border-box;top: 0;bottom: 0;left: 50%;z-index: -1;}#sk-container-id-1 div.sk-parallel-item {display: flex;flex-direction: column;z-index: 1;position: relative;background-color: white;}#sk-container-id-1 div.sk-parallel-item:first-child::after {align-self: flex-end;width: 50%;}#sk-container-id-1 div.sk-parallel-item:last-child::after {align-self: flex-start;width: 50%;}#sk-container-id-1 div.sk-parallel-item:only-child::after {width: 0;}#sk-container-id-1 div.sk-dashed-wrapped {border: 1px dashed gray;margin: 0 0.4em 0.5em 0.4em;box-sizing: border-box;padding-bottom: 0.4em;background-color: white;}#sk-container-id-1 div.sk-label label {font-family: monospace;font-weight: bold;display: inline-block;line-height: 1.2em;}#sk-container-id-1 div.sk-label-container {text-align: center;}#sk-container-id-1 div.sk-container {/* jupyter's `normalize.less` sets `[hidden] { display: none; }` but bootstrap.min.css set `[hidden] { display: none !important; }` so we also need the `!important` here to be able to override the default hidden behavior on the sphinx rendered scikit-learn.org. See: https://github.com/scikit-learn/scikit-learn/issues/21755 */display: inline-block !important;position: relative;}#sk-container-id-1 div.sk-text-repr-fallback {display: none;}</style><div id=\"sk-container-id-1\" class=\"sk-top-container\"><div class=\"sk-text-repr-fallback\"><pre>GridSearchCV(cv=KFold(n_splits=5, random_state=10, shuffle=True),\n",
              "             estimator=SVC(),\n",
              "             param_grid=[{&#x27;C&#x27;: [5, 10], &#x27;gamma&#x27;: [0.01, 0.001, 0.0001]}],\n",
              "             return_train_score=True, scoring=&#x27;accuracy&#x27;, verbose=1)</pre><b>In a Jupyter environment, please rerun this cell to show the HTML representation or trust the notebook. <br />On GitHub, the HTML representation is unable to render, please try loading this page with nbviewer.org.</b></div><div class=\"sk-container\" hidden><div class=\"sk-item sk-dashed-wrapped\"><div class=\"sk-label-container\"><div class=\"sk-label sk-toggleable\"><input class=\"sk-toggleable__control sk-hidden--visually\" id=\"sk-estimator-id-1\" type=\"checkbox\" ><label for=\"sk-estimator-id-1\" class=\"sk-toggleable__label sk-toggleable__label-arrow\">GridSearchCV</label><div class=\"sk-toggleable__content\"><pre>GridSearchCV(cv=KFold(n_splits=5, random_state=10, shuffle=True),\n",
              "             estimator=SVC(),\n",
              "             param_grid=[{&#x27;C&#x27;: [5, 10], &#x27;gamma&#x27;: [0.01, 0.001, 0.0001]}],\n",
              "             return_train_score=True, scoring=&#x27;accuracy&#x27;, verbose=1)</pre></div></div></div><div class=\"sk-parallel\"><div class=\"sk-parallel-item\"><div class=\"sk-item\"><div class=\"sk-label-container\"><div class=\"sk-label sk-toggleable\"><input class=\"sk-toggleable__control sk-hidden--visually\" id=\"sk-estimator-id-2\" type=\"checkbox\" ><label for=\"sk-estimator-id-2\" class=\"sk-toggleable__label sk-toggleable__label-arrow\">estimator: SVC</label><div class=\"sk-toggleable__content\"><pre>SVC()</pre></div></div></div><div class=\"sk-serial\"><div class=\"sk-item\"><div class=\"sk-estimator sk-toggleable\"><input class=\"sk-toggleable__control sk-hidden--visually\" id=\"sk-estimator-id-3\" type=\"checkbox\" ><label for=\"sk-estimator-id-3\" class=\"sk-toggleable__label sk-toggleable__label-arrow\">SVC</label><div class=\"sk-toggleable__content\"><pre>SVC()</pre></div></div></div></div></div></div></div></div></div></div>"
            ],
            "text/plain": [
              "GridSearchCV(cv=KFold(n_splits=5, random_state=10, shuffle=True),\n",
              "             estimator=SVC(),\n",
              "             param_grid=[{'C': [5, 10], 'gamma': [0.01, 0.001, 0.0001]}],\n",
              "             return_train_score=True, scoring='accuracy', verbose=1)"
            ]
          },
          "execution_count": 20,
          "metadata": {},
          "output_type": "execute_result"
        }
      ],
      "source": [
        "folds = KFold(n_splits = 5, shuffle = True, random_state = 10)\n",
        "\n",
        "# specify range of hyperparameters\n",
        "# Set the parameters by cross-validation\n",
        "hyper_params = [ {'gamma': [1e-2, 1e-3, 1e-4],\n",
        "                     'C': [5,10]}]\n",
        "# specify model\n",
        "svc = SVC(gamma=\"scale\",class_weight=\"balanced\")\n",
        "\n",
        "# set up GridSearchCV()\n",
        "model_cv = GridSearchCV(estimator = model, \n",
        "                        param_grid = hyper_params, \n",
        "                        scoring= 'accuracy', \n",
        "                        cv = folds, \n",
        "                        verbose = 1,\n",
        "                        return_train_score=True)      \n",
        "# fit the model\n",
        "model_cv.fit(X_train, y_train)"
      ]
    },
    {
      "cell_type": "code",
      "execution_count": null,
      "id": "4e94b5cb",
      "metadata": {
        "id": "4e94b5cb"
      },
      "outputs": [],
      "source": [
        "out = model_cv.predict(X_train)"
      ]
    },
    {
      "cell_type": "code",
      "execution_count": null,
      "id": "9f6e8413",
      "metadata": {
        "id": "9f6e8413",
        "outputId": "56c0ef85-6987-4aa1-f6d1-fdce4e008363"
      },
      "outputs": [
        {
          "data": {
            "text/plain": [
              "1.0"
            ]
          },
          "execution_count": 24,
          "metadata": {},
          "output_type": "execute_result"
        }
      ],
      "source": [
        "accuracy_score(y_train, out)"
      ]
    },
    {
      "cell_type": "code",
      "source": [],
      "metadata": {
        "id": "Co1-vCkuH1NI"
      },
      "id": "Co1-vCkuH1NI",
      "execution_count": null,
      "outputs": []
    },
    {
      "cell_type": "markdown",
      "source": [
        "# Refining the hyperparameter tunings: Which kernal should we use?"
      ],
      "metadata": {
        "id": "QuNxRr8uH10R"
      },
      "id": "QuNxRr8uH10R"
    },
    {
      "cell_type": "code",
      "source": [
        "X, X_val, y, y_val = train_test_split(X_train, y_train, test_size = 0.1, train_size = 0.1, random_state = 10)"
      ],
      "metadata": {
        "id": "sxpmaE6zJo8v"
      },
      "id": "sxpmaE6zJo8v",
      "execution_count": 31,
      "outputs": []
    },
    {
      "cell_type": "code",
      "source": [
        "X_train.shape"
      ],
      "metadata": {
        "colab": {
          "base_uri": "https://localhost:8080/"
        },
        "id": "qSo0Ki4bLgm0",
        "outputId": "3b44e043-562c-4716-a51f-aa7b95ca3398"
      },
      "id": "qSo0Ki4bLgm0",
      "execution_count": 26,
      "outputs": [
        {
          "output_type": "execute_result",
          "data": {
            "text/plain": [
              "(5000,)"
            ]
          },
          "metadata": {},
          "execution_count": 26
        }
      ]
    },
    {
      "cell_type": "code",
      "execution_count": null,
      "id": "d3d4114b",
      "metadata": {
        "id": "d3d4114b"
      },
      "outputs": [],
      "source": [
        "acc = []\n",
        "acc_tr = []\n",
        "coefficient = []\n",
        "for c in [0.0001,0.001,0.01,0.1,1,10,100,1000,10000]:\n",
        "    svm = LinearSVC(dual=False, C=c)\n",
        "    svm.fit(X,y)\n",
        "    coef = svm.coef_\n",
        "    \n",
        "    p_tr = svm.predict(X)\n",
        "    a_tr = accuracy_score(X, p_tr)\n",
        "    \n",
        "    pred = svm.predict(X_val)\n",
        "    a = accuracy_score(y_val, pred)\n",
        "    \n",
        "    coefficient.append(coef)\n",
        "    acc_tr.append(a_tr)\n",
        "    acc.append(a)"
      ]
    },
    {
      "cell_type": "code",
      "source": [
        "c = [0.0001,0.001,0.01,0.1,1,10,100,1000,10000]\n",
        "\n",
        "matplot.subplots(figsize=(10, 5))\n",
        "matplot.semilogx(c, acc,'-gD' ,color='red' , label=\"Testing Accuracy\")\n",
        "matplot.semilogx(c, acc_tr,'-gD' , label=\"Training Accuracy\")\n",
        "#matplot.xticks(L,L)\n",
        "matplot.grid(True)\n",
        "matplot.xlabel(\"Cost Parameter C\")\n",
        "matplot.ylabel(\"Accuracy\")\n",
        "matplot.legend()\n",
        "matplot.title('Accuracy versus the Cost Parameter C (log-scale)')\n",
        "matplot.show()"
      ],
      "metadata": {
        "id": "_PPvNXlyH9YO"
      },
      "id": "_PPvNXlyH9YO",
      "execution_count": null,
      "outputs": []
    }
  ],
  "metadata": {
    "kernelspec": {
      "display_name": "Python 3 (ipykernel)",
      "language": "python",
      "name": "python3"
    },
    "language_info": {
      "codemirror_mode": {
        "name": "ipython",
        "version": 3
      },
      "file_extension": ".py",
      "mimetype": "text/x-python",
      "name": "python",
      "nbconvert_exporter": "python",
      "pygments_lexer": "ipython3",
      "version": "3.9.2"
    },
    "colab": {
      "provenance": [],
      "collapsed_sections": []
    },
    "accelerator": "GPU",
    "gpuClass": "standard"
  },
  "nbformat": 4,
  "nbformat_minor": 5
}