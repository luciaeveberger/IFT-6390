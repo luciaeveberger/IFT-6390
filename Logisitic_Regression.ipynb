{
  "cells": [
    {
      "cell_type": "code",
      "execution_count": null,
      "metadata": {
        "colab": {
          "base_uri": "https://localhost:8080/"
        },
        "id": "qjTqN1lLns5-",
        "outputId": "70bc0e2c-b176-486c-d87a-7ac81f9818fa"
      },
      "outputs": [
        {
          "output_type": "stream",
          "name": "stdout",
          "text": [
            "Mounted at /content/drive\n"
          ]
        }
      ],
      "source": [
        "from google.colab import drive\n",
        "import pandas as pd\n",
        "drive.mount('/content/drive')"
      ]
    },
    {
      "cell_type": "markdown",
      "metadata": {
        "id": "DIMj7QgKi5dI"
      },
      "source": [
        "# Sources: \n",
        "\n",
        "https://medium.com/analytics-vidhya/logistic-regression-from-scratch-multi-classification-with-onevsall-d5c2acf0c37c\n",
        "\n",
        "https://dmkothari.github.io/Machine-Learning-Projects/SVM_with_MNIST.html\n",
        "\n",
        "https://datascience.stackexchange.com/questions/55545/in-cnn-why-do-we-increase-the-number-of-filters-in-deeper-convolution-layers-fo\n",
        "\n",
        "\n",
        "https://github.com/yawen-d/Logistic-Regression-on-MNIST-with-NumPy-from-Scratch\n",
        "\n"
      ]
    },
    {
      "cell_type": "code",
      "execution_count": null,
      "metadata": {
        "id": "aeB9ScWhn6bB"
      },
      "outputs": [],
      "source": [
        "import numpy as np\n",
        "import matplotlib.pyplot as plt"
      ]
    },
    {
      "cell_type": "markdown",
      "metadata": {
        "id": "gSKuTuRPjvk4"
      },
      "source": [
        "Load our Data and remove the test labels for now"
      ]
    },
    {
      "cell_type": "code",
      "execution_count": null,
      "metadata": {
        "id": "CZU_A_6fjnFd"
      },
      "outputs": [],
      "source": [
        "train_data = pd.read_csv('/content/drive/MyDrive/Colab Notebooks/logistic_regression/train.csv', delimiter=',')\n",
        "train_data = train_data.iloc[:, :-1]\n",
        "train_results = pd.read_csv(\"/content/drive/MyDrive/Colab Notebooks/logistic_regression/train_result.csv\",\n",
        "                                delimiter=',')\n",
        "our_y_train = train_results['Class']\n",
        "num_inputs = train_data.shape[1]\n",
        "num_classes = len(set(our_y_train))"
      ]
    },
    {
      "cell_type": "markdown",
      "source": [
        "# Define our Helper Functions \n"
      ],
      "metadata": {
        "id": "FeBhgWivO_6q"
      }
    },
    {
      "cell_type": "code",
      "execution_count": null,
      "metadata": {
        "id": "q4MmyYdNkAmr"
      },
      "outputs": [],
      "source": [
        "# helper functions\n",
        "def sigmoid_function(z):\n",
        "    exp_list = np.exp(z)\n",
        "    result = 1 / sum(exp_list) * exp_list\n",
        "    result = result.reshape((len(z), 1))\n",
        "    return result\n",
        "\n",
        "\n",
        "def neg_log_loss_function(pred, label):\n",
        "    loss = -np.log(pred[int(label)])\n",
        "    return loss"
      ]
    },
    {
      "cell_type": "markdown",
      "source": [
        "# Gradient Descent with minibatching"
      ],
      "metadata": {
        "id": "caK0ypm_PFHB"
      }
    },
    {
      "cell_type": "code",
      "execution_count": null,
      "metadata": {
        "id": "tdCWC84JnzKt"
      },
      "outputs": [],
      "source": [
        "def gradiend_descent_with_mini_batching(param, x_batch, y_batch):\n",
        "    batch_size = x_batch.shape[0]\n",
        "    w_grad_list = []\n",
        "    b_grad_list = []\n",
        "    batch_loss = 0\n",
        "    for i in range(batch_size):\n",
        "        x, y = x_batch[i], y_batch[i]\n",
        "        x = x.reshape((1568, 1))  \n",
        "        E = np.zeros((num_classes, 1)) \n",
        "        E[y][0] = 1\n",
        "        pred = sigmoid_function(np.matmul(param['w'], x) + param['b'])\n",
        "        loss = neg_log_loss_function(pred, y)\n",
        "        batch_loss += loss\n",
        "        w_grad = E - pred\n",
        "        w_grad = - np.matmul(w_grad, x.reshape((1, 1568)))\n",
        "        w_grad_list.append(w_grad)\n",
        "        b_grad = -(E - pred)\n",
        "        b_grad_list.append(b_grad)\n",
        "\n",
        "    dw = sum(w_grad_list) / batch_size\n",
        "    db = sum(b_grad_list) / batch_size\n",
        "    return dw, db, batch_loss\n",
        "\n",
        "def eval(param, x_data, y_data):\n",
        "    loss_list = []\n",
        "    w = param['w'].transpose()\n",
        "    dist = np.array([np.squeeze(sigmoid_function(np.matmul(x_data[i], w))) for i in range(len(y_data))])\n",
        "\n",
        "    result = np.argmax(dist, axis=1)\n",
        "    accuracy = sum(result == y_data) / float(len(y_data))\n",
        "    loss_list = [neg_log_loss_function(dist[i], y_data[i]) for i in range(len(y_data))]\n",
        "    loss = sum(loss_list)\n",
        "    return loss, accuracy"
      ]
    },
    {
      "cell_type": "code",
      "execution_count": null,
      "metadata": {
        "id": "CnUzNr0_luH5"
      },
      "outputs": [],
      "source": [
        "def train(param, x_train, y_train):\n",
        "    num_epoches = 15\n",
        "    batch_size = 10\n",
        "    learning_rate = 0.005\n",
        "    test_loss_list, test_accu_list = [], []\n",
        "\n",
        "    for epoch in range(num_epoches):\n",
        "        # select the random sequence of training set\n",
        "        rand_indices = np.random.choice(x_train.shape[0], x_train.shape[0], replace=False)\n",
        "        num_batch = int(x_train.shape[0] / batch_size)\n",
        "        batch_loss100 = 0\n",
        "        # for each batch of train data\n",
        "        for batch in range(num_batch):\n",
        "            index = rand_indices[batch_size * batch:batch_size * (batch + 1)]\n",
        "            x_batch = x_train[index]\n",
        "            y_batch = y_train[index]\n",
        "            # calculate the gradient w.r.t w and b\n",
        "            dw, db, batch_loss = gradiend_descent_with_mini_batching(param, x_batch, y_batch)\n",
        "            batch_loss100 += batch_loss\n",
        "            param['w'] -= learning_rate * dw\n",
        "            param['b'] -= learning_rate * db\n",
        "            if batch % 100 == 0:\n",
        "                message = 'Epoch %d, Batch %d, Loss %.2f' % (epoch + 1, batch, batch_loss)\n",
        "                batch_loss100 = 0\n",
        "        train_loss, train_accu = eval(param, x_train, y_train)\n",
        "        test_loss_list.append(train_loss)\n",
        "        test_accu_list.append(train_accu)\n",
        "        message = 'Epoch %d, Train Loss %.2f, Train Accu %.4f,' % (\n",
        "        epoch + 1, train_loss, train_accu)\n",
        "        print(message)\n",
        "    return test_loss_list, test_accu_list"
      ]
    },
    {
      "cell_type": "code",
      "execution_count": null,
      "metadata": {
        "id": "bKXP-jdgl0H2"
      },
      "outputs": [],
      "source": []
    },
    {
      "cell_type": "code",
      "execution_count": null,
      "metadata": {
        "id": "zFHiQdlsl9vM",
        "colab": {
          "base_uri": "https://localhost:8080/"
        },
        "outputId": "27792060-de65-44fc-e937-c6459a76c59d"
      },
      "outputs": [
        {
          "output_type": "stream",
          "name": "stdout",
          "text": [
            "(50000, 1568)\n",
            "(50000,)\n",
            "19\n"
          ]
        }
      ],
      "source": [
        "weights = np.random.randn(num_classes, num_inputs) / np.sqrt(num_classes * num_inputs)\n",
        "biases = np.random.randn(num_classes, 1) / np.sqrt(num_classes)  # (19*1)\n",
        "\n",
        "param = {\n",
        "        'w': weights,  # (10*784)\n",
        "        'b': biases # (10*1)\n",
        "    }\n",
        "train_data = np.float32(train_data)\n",
        "our_y_train = np.int32(our_y_train)\n",
        "\n",
        "print(train_data.shape)\n",
        "print(our_y_train.shape)\n",
        "print(num_classes)"
      ]
    },
    {
      "cell_type": "code",
      "execution_count": null,
      "metadata": {
        "colab": {
          "base_uri": "https://localhost:8080/"
        },
        "id": "zzfz_kAupya5",
        "outputId": "3699e660-05c6-4a58-ee7c-91fb500df734"
      },
      "outputs": [
        {
          "output_type": "stream",
          "name": "stdout",
          "text": [
            "Epoch 1, Train Loss 119460.20, Train Accu 0.1899,\n",
            "Epoch 2, Train Loss 115847.36, Train Accu 0.2070,\n",
            "Epoch 3, Train Loss 113826.04, Train Accu 0.2237,\n",
            "Epoch 4, Train Loss 112537.60, Train Accu 0.2243,\n",
            "Epoch 5, Train Loss 111287.55, Train Accu 0.2359,\n",
            "Epoch 6, Train Loss 110650.76, Train Accu 0.2380,\n",
            "Epoch 7, Train Loss 110843.66, Train Accu 0.2394,\n",
            "Epoch 8, Train Loss 110260.29, Train Accu 0.2411,\n",
            "Epoch 9, Train Loss 109348.80, Train Accu 0.2473,\n",
            "Epoch 10, Train Loss 109517.85, Train Accu 0.2447,\n",
            "Epoch 11, Train Loss 108966.12, Train Accu 0.2485,\n",
            "Epoch 12, Train Loss 108947.83, Train Accu 0.2474,\n",
            "Epoch 13, Train Loss 109159.86, Train Accu 0.2499,\n",
            "Epoch 14, Train Loss 109429.16, Train Accu 0.2422,\n",
            "Epoch 15, Train Loss 109016.18, Train Accu 0.2526,\n"
          ]
        }
      ],
      "source": [
        "loss_list, accu_list = train(param,train_data, our_y_train)"
      ]
    },
    {
      "cell_type": "code",
      "execution_count": null,
      "metadata": {
        "id": "m0YZfBCVkSvO",
        "colab": {
          "base_uri": "https://localhost:8080/",
          "height": 585
        },
        "outputId": "82480509-5778-4232-e344-bf91aebc56f6"
      },
      "outputs": [
        {
          "output_type": "display_data",
          "data": {
            "text/plain": [
              "<Figure size 432x288 with 1 Axes>"
            ],
            "image/png": "[encoded data removed]"
          },
          "metadata": {
            "needs_background": "light"
          }
        },
        {
          "output_type": "display_data",
          "data": {
            "text/plain": [
              "<Figure size 432x288 with 1 Axes>"
            ],
            "image/png": "[encoded data removed]"
          },
          "metadata": {
            "needs_background": "light"
          }
        }
      ],
      "source": [
        "plt.plot(loss_list)\n",
        "plt.ylabel('Loss Function')\n",
        "plt.xlabel('Epoch')\n",
        "plt.xticks(rotation=60)\n",
        "plt.title('Loss Function ~ Epoch')\n",
        "plt.show()\n",
        "\n",
        "plt.plot(accu_list)\n",
        "plt.ylabel('Test Accuracy')\n",
        "plt.xlabel('Epoch')\n",
        "plt.xticks(rotation=60)\n",
        "plt.title('Train Accuracy ~ Epoch')\n",
        "plt.show()\n"
      ]
    },
    {
      "cell_type": "markdown",
      "metadata": {
        "id": "ScCj1uzFpnqA"
      },
      "source": []
    },
    {
      "cell_type": "code",
      "execution_count": null,
      "metadata": {
        "id": "LRCJwqZCpodB"
      },
      "outputs": [],
      "source": [
        "test_data = pd.read_csv('/content/drive/MyDrive/Colab Notebooks/logistic_regression/test.csv', delimiter=',')\n",
        "test_data = test_data.iloc[:, :-1]\n",
        "\n",
        "loss_list = []\n",
        "w = param['w'].transpose()\n",
        "test_data = np.float32(test_data)\n",
        "sigmoid_function(np.matmul(test_data[0], w))\n",
        "\n",
        "dist = np.array([np.squeeze(sigmoid_function(np.matmul(test_data[i], w))) for i in range(len(test_data))])\n",
        "result = np.argmax(dist, axis=1)"
      ]
    },
    {
      "cell_type": "code",
      "execution_count": null,
      "metadata": {
        "id": "25ceAFrcpchn",
        "colab": {
          "base_uri": "https://localhost:8080/"
        },
        "outputId": "010624a7-4a44-4236-ce91-fbce15d7e833"
      },
      "outputs": [
        {
          "output_type": "stream",
          "name": "stdout",
          "text": [
            "[10 14 14 ...  4  4  6]\n"
          ]
        }
      ],
      "source": [
        "print(result)"
      ]
    },
    {
      "cell_type": "code",
      "source": [],
      "metadata": {
        "id": "t85NCfUlS1Jy"
      },
      "execution_count": null,
      "outputs": []
    }
  ],
  "metadata": {
    "colab": {
      "collapsed_sections": [],
      "provenance": []
    },
    "kernelspec": {
      "display_name": "Python 3",
      "name": "python3"
    },
    "language_info": {
      "name": "python"
    }
  },
  "nbformat": 4,
  "nbformat_minor": 0
}