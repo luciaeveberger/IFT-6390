{
  "cells": [
    {
      "cell_type": "code",
      "execution_count": 59,
      "metadata": {
        "id": "fe7a70a6"
      },
      "outputs": [],
      "source": [
        "# baseline cnn model for mnist\n",
        "from numpy import mean\n",
        "from numpy import std\n",
        "from matplotlib import pyplot as plt\n",
        "from sklearn.model_selection import KFold\n",
        "from tensorflow.keras.utils import to_categorical\n",
        "from tensorflow.keras.models import Sequential\n",
        "from tensorflow.keras.layers import Conv2D\n",
        "from tensorflow.keras.layers import MaxPooling2D\n",
        "from tensorflow.keras.layers import Dense\n",
        "from tensorflow.keras.layers import Flatten\n",
        "from tensorflow.keras.optimizers import SGD\n",
        "from matplotlib import pyplot as plt"
      ],
      "id": "fe7a70a6"
    },
    {
      "cell_type": "code",
      "execution_count": 60,
      "metadata": {
        "colab": {
          "base_uri": "https://localhost:8080/"
        },
        "id": "6h82FeBF2Kmi",
        "outputId": "62c8bb6a-be5a-451a-b3c2-f7a834692fcb"
      },
      "outputs": [
        {
          "output_type": "stream",
          "name": "stdout",
          "text": [
            "Drive already mounted at /content/drive; to attempt to forcibly remount, call drive.mount(\"/content/drive\", force_remount=True).\n"
          ]
        }
      ],
      "source": [
        "from google.colab import drive\n",
        "drive.mount('/content/drive')"
      ],
      "id": "6h82FeBF2Kmi"
    },
    {
      "cell_type": "code",
      "execution_count": 61,
      "metadata": {
        "id": "8ab43cf4"
      },
      "outputs": [],
      "source": [
        "import pandas as pd\n",
        "\n",
        "train_data = pd.read_csv('/content/drive/MyDrive/Colab Notebooks/logistic_regression/train.csv', delimiter=',')\n",
        "test_data = pd.read_csv('/content/drive/MyDrive/Colab Notebooks/logistic_regression/test.csv', delimiter=',')"
      ],
      "id": "8ab43cf4"
    },
    {
      "cell_type": "code",
      "execution_count": 62,
      "metadata": {
        "colab": {
          "base_uri": "https://localhost:8080/"
        },
        "id": "769f74e5",
        "outputId": "11e0ec51-d564-430b-ad0f-5d4a2eb33171"
      },
      "outputs": [
        {
          "output_type": "execute_result",
          "data": {
            "text/plain": [
              "(10000, 1569)"
            ]
          },
          "metadata": {},
          "execution_count": 62
        }
      ],
      "source": [
        "test_data.shape"
      ],
      "id": "769f74e5"
    },
    {
      "cell_type": "code",
      "source": [
        "import numpy as np\n",
        "train_data.shape\n",
        "train_data = train_data.iloc[: , :-1]\n",
        "test_data = test_data.iloc[: , :-1]\n",
        "#train_data = train_data/255.0\n",
        "np_train = train_data.to_numpy()\n",
        "np_train.shape\n",
        "train_data[train_data < 0.5] = 0\n",
        "train_data[train_data > 0.5] = 255\n",
        "np_train = np.reshape(np_train, (50000, 28, 56, 1))"
      ],
      "metadata": {
        "id": "24AAWLwknKgQ"
      },
      "id": "24AAWLwknKgQ",
      "execution_count": 63,
      "outputs": []
    },
    {
      "cell_type": "code",
      "execution_count": null,
      "metadata": {
        "id": "37e68b39"
      },
      "outputs": [],
      "source": [
        "one_point[0:784]"
      ],
      "id": "37e68b39"
    },
    {
      "cell_type": "code",
      "execution_count": null,
      "metadata": {
        "id": "57925ebb",
        "outputId": "fe72b74c-e51b-42f4-82b1-dac209518c57",
        "colab": {
          "base_uri": "https://localhost:8080/",
          "height": 285
        }
      },
      "outputs": [
        {
          "output_type": "display_data",
          "data": {
            "text/plain": [
              "<Figure size 576x288 with 1 Axes>"
            ],
            "image/png": "[encoded data removed]"
          },
          "metadata": {
            "needs_background": "light"
          }
        }
      ],
      "source": [
        "plt.matshow(pixel_mat(one_point), cmap=plt.cm.gray)\n",
        "plt.title(\"Digit Label: 14\")\n",
        "plt.show()"
      ],
      "id": "57925ebb"
    },
    {
      "cell_type": "markdown",
      "source": [],
      "metadata": {
        "id": "MBTHllIZG4Ie"
      },
      "id": "MBTHllIZG4Ie"
    },
    {
      "cell_type": "code",
      "execution_count": 64,
      "metadata": {
        "id": "df3aa4c2"
      },
      "outputs": [],
      "source": [
        "from keras.datasets import mnist\n",
        "from keras.utils import to_categorical\n",
        "from keras import models, layers, callbacks\n",
        "import time\n",
        "import numpy as np\n",
        "np.random.seed(77)\n",
        "\n",
        "\n",
        "threshold = 125\n",
        "train_results = pd.read_csv(\"/content/drive/MyDrive/Colab Notebooks/logistic_regression/train_result.csv\", delimiter=',')\n",
        "y_train = train_results['Class']\n",
        "nclasses = np.unique(y_train).size"
      ],
      "id": "df3aa4c2"
    },
    {
      "cell_type": "markdown",
      "source": [
        "I converted the train labels to one-hot vectors here"
      ],
      "metadata": {
        "id": "sBYwmsPG-b-0"
      },
      "id": "sBYwmsPG-b-0"
    },
    {
      "cell_type": "code",
      "execution_count": 65,
      "metadata": {
        "id": "ZXhp02VDeoHk"
      },
      "outputs": [],
      "source": [
        "train_y = to_categorical(y_train)"
      ],
      "id": "ZXhp02VDeoHk"
    },
    {
      "cell_type": "markdown",
      "source": [
        "# Initial Architectures\n",
        "\n",
        "Before deciding on a 3 layer model, I experiemented with two other CNN models. These were wider models and more advanced models."
      ],
      "metadata": {
        "id": "eb8WZxNburuB"
      },
      "id": "eb8WZxNburuB"
    },
    {
      "cell_type": "code",
      "source": [
        "def arch():\n",
        "    m = models.Sequential()\n",
        "    #m.add(layers.Conv2D(64, (2,2), activation='relu', input_shape=train_X.shape[1:]))\n",
        "    #m.add(layers.MaxPooling2D((2,2)))\n",
        "    m.add(layers.Conv2D(128, (5,5), activation='relu', input_shape=train_X.shape[1:]))\n",
        "    m.add(layers.MaxPooling2D((2,2)))\n",
        "    m.add(layers.Dropout(0.5))\n",
        "    m.add(layers.Conv2D(256, (5,5), activation='relu'))\n",
        "    m.add(layers.MaxPooling2D((2,2)))\n",
        "    m.add(layers.Dropout(0.5))\n",
        "    m.add(layers.Conv2D(256, (3,3), activation='relu'))\n",
        "    m.add(layers.MaxPooling2D((2,2)))\n",
        "    m.add(layers.Flatten())\n",
        "    m.add(layers.Dense(256, activation='relu'))\n",
        "    m.add(layers.Dense(nclasses, activation='softmax'))\n",
        "    return m\n",
        "\n",
        "def letnet():\n",
        "  model = Sequential()\n",
        "  model.add(layers.Conv2D(filters=32, kernel_size=(32,32), padding='same', activation='relu', input_shape=train_X.shape[1:]))\n",
        "  model.add(layers.MaxPool2D(strides=2))\n",
        "  model.add(layers.Conv2D(filters=48, kernel_size=(8,8), padding='valid', activation='relu'))\n",
        "  model.add(layers.MaxPool2D(strides=2))\n",
        "  model.add(layers.Flatten())\n",
        "  model.add(layers.Dense(256, activation='relu'))\n",
        "  model.add(layers.Dropout(0.5))\n",
        "  model.add(layers.Dense(84, activation='relu'))\n",
        "  model.add(layers.Dropout(0.5))\n",
        "  model.add(layers.Dense(nclasses, activation='softmax'))\n",
        "  return model "
      ],
      "metadata": {
        "id": "XAdx0hRhuvYQ"
      },
      "id": "XAdx0hRhuvYQ",
      "execution_count": 3,
      "outputs": []
    },
    {
      "cell_type": "code",
      "execution_count": 66,
      "metadata": {
        "colab": {
          "base_uri": "https://localhost:8080/"
        },
        "id": "76fb0957",
        "outputId": "e9a8e941-b9dc-4c35-b61e-a80bdd5e569a"
      },
      "outputs": [
        {
          "output_type": "stream",
          "name": "stdout",
          "text": [
            "RMSprop\n",
            "class            input    output     units    params     activ     label\n",
            "========================================================================\n",
            "Conv2D              28        24                3328      relu     Corel\n",
            "MaxPooling2D        24        12                   0                  Ma\n",
            "Dropout             12        12                   0                  Dr\n",
            "Conv2D              12         8              819456      relu     Corel\n",
            "MaxPooling2D         8         4                   0                  Ma\n",
            "Dropout              4         4                   0                  Dr\n",
            "Conv2D               4         2              590080      relu     Corel\n",
            "MaxPooling2D         2         1                   0                  Ma\n",
            "Flatten              1      1024                   0                  Fl\n",
            "Dense             1024       256       256    262400      relu  De256rel\n",
            "Dense              256        19        19      4883   softmax   De19sof\n",
            "labelling this model as RMSprop:Corel|Ma|Dr|Corel|Ma|Dr|Corel|Ma|Fl|De256rel|De19sof \n",
            "\n",
            "Epoch 1/100\n",
            "9/9 [==============================] - 29s 2s/step - loss: 110.8187 - accuracy: 0.0714 - val_loss: 2.9394 - val_accuracy: 0.0599\n",
            "Epoch 2/100\n",
            "9/9 [==============================] - 8s 913ms/step - loss: 3.3890 - accuracy: 0.0715 - val_loss: 2.9392 - val_accuracy: 0.0916\n",
            "Epoch 3/100\n",
            "9/9 [==============================] - 8s 910ms/step - loss: 2.9721 - accuracy: 0.0855 - val_loss: 2.9295 - val_accuracy: 0.0945\n",
            "Epoch 4/100\n",
            "9/9 [==============================] - 8s 912ms/step - loss: 2.8511 - accuracy: 0.0905 - val_loss: 2.9170 - val_accuracy: 0.0945\n",
            "Epoch 5/100\n",
            "9/9 [==============================] - 8s 915ms/step - loss: 2.8148 - accuracy: 0.0943 - val_loss: 2.8349 - val_accuracy: 0.0939\n",
            "Epoch 6/100\n",
            "9/9 [==============================] - 8s 911ms/step - loss: 2.7959 - accuracy: 0.0937 - val_loss: 2.8182 - val_accuracy: 0.1001\n",
            "Epoch 7/100\n",
            "9/9 [==============================] - 8s 917ms/step - loss: 2.7691 - accuracy: 0.0973 - val_loss: 2.7726 - val_accuracy: 0.1047\n",
            "Epoch 8/100\n",
            "9/9 [==============================] - 8s 916ms/step - loss: 2.7405 - accuracy: 0.1021 - val_loss: 2.7295 - val_accuracy: 0.1011\n",
            "Epoch 9/100\n",
            "9/9 [==============================] - 8s 914ms/step - loss: 2.7139 - accuracy: 0.1101 - val_loss: 2.7264 - val_accuracy: 0.1089\n",
            "Epoch 10/100\n",
            "9/9 [==============================] - 8s 915ms/step - loss: 2.6901 - accuracy: 0.1137 - val_loss: 2.6118 - val_accuracy: 0.1441\n",
            "Epoch 11/100\n",
            "9/9 [==============================] - 8s 919ms/step - loss: 2.6427 - accuracy: 0.1284 - val_loss: 2.5569 - val_accuracy: 0.1741\n",
            "Epoch 12/100\n",
            "9/9 [==============================] - 8s 920ms/step - loss: 2.5983 - accuracy: 0.1455 - val_loss: 2.5517 - val_accuracy: 0.1980\n",
            "Epoch 13/100\n",
            "9/9 [==============================] - 8s 922ms/step - loss: 2.5630 - accuracy: 0.1629 - val_loss: 2.5803 - val_accuracy: 0.1893\n",
            "Epoch 14/100\n",
            "9/9 [==============================] - 8s 923ms/step - loss: 2.4742 - accuracy: 0.1951 - val_loss: 2.2506 - val_accuracy: 0.2919\n",
            "Epoch 15/100\n",
            "9/9 [==============================] - 8s 928ms/step - loss: 2.4081 - accuracy: 0.2228 - val_loss: 2.1746 - val_accuracy: 0.3113\n",
            "Epoch 16/100\n",
            "9/9 [==============================] - 8s 932ms/step - loss: 2.3476 - accuracy: 0.2413 - val_loss: 2.1074 - val_accuracy: 0.3745\n",
            "Epoch 17/100\n",
            "9/9 [==============================] - 8s 931ms/step - loss: 2.2026 - accuracy: 0.2886 - val_loss: 2.1829 - val_accuracy: 0.3125\n",
            "Epoch 18/100\n",
            "9/9 [==============================] - 8s 933ms/step - loss: 2.1113 - accuracy: 0.3197 - val_loss: 1.7885 - val_accuracy: 0.4421\n",
            "Epoch 19/100\n",
            "9/9 [==============================] - 8s 938ms/step - loss: 1.9405 - accuracy: 0.3656 - val_loss: 1.7513 - val_accuracy: 0.4469\n",
            "Epoch 20/100\n",
            "9/9 [==============================] - 8s 938ms/step - loss: 1.8346 - accuracy: 0.4022 - val_loss: 1.6631 - val_accuracy: 0.4973\n",
            "Epoch 21/100\n",
            "9/9 [==============================] - 8s 939ms/step - loss: 1.6852 - accuracy: 0.4506 - val_loss: 1.4959 - val_accuracy: 0.5232\n",
            "Epoch 22/100\n",
            "9/9 [==============================] - 8s 950ms/step - loss: 1.5501 - accuracy: 0.4984 - val_loss: 1.2592 - val_accuracy: 0.6033\n",
            "Epoch 23/100\n",
            "9/9 [==============================] - 8s 946ms/step - loss: 1.3955 - accuracy: 0.5489 - val_loss: 1.1197 - val_accuracy: 0.6666\n",
            "Epoch 24/100\n",
            "9/9 [==============================] - 8s 944ms/step - loss: 1.2421 - accuracy: 0.6012 - val_loss: 1.0195 - val_accuracy: 0.6902\n",
            "Epoch 25/100\n",
            "9/9 [==============================] - 8s 948ms/step - loss: 1.0965 - accuracy: 0.6485 - val_loss: 0.8223 - val_accuracy: 0.7597\n",
            "Epoch 26/100\n",
            "9/9 [==============================] - 8s 946ms/step - loss: 0.9692 - accuracy: 0.6943 - val_loss: 0.7451 - val_accuracy: 0.7760\n",
            "Epoch 27/100\n",
            "9/9 [==============================] - 9s 953ms/step - loss: 0.8980 - accuracy: 0.7215 - val_loss: 0.6682 - val_accuracy: 0.7975\n",
            "Epoch 28/100\n",
            "9/9 [==============================] - 9s 954ms/step - loss: 0.7750 - accuracy: 0.7643 - val_loss: 0.5160 - val_accuracy: 0.8565\n",
            "Epoch 29/100\n",
            "9/9 [==============================] - 9s 950ms/step - loss: 0.6571 - accuracy: 0.8003 - val_loss: 0.4861 - val_accuracy: 0.8511\n",
            "Epoch 30/100\n",
            "9/9 [==============================] - 9s 956ms/step - loss: 0.6390 - accuracy: 0.8053 - val_loss: 0.3413 - val_accuracy: 0.9061\n",
            "Epoch 31/100\n",
            "9/9 [==============================] - 9s 956ms/step - loss: 0.5203 - accuracy: 0.8441 - val_loss: 0.3787 - val_accuracy: 0.8994\n",
            "Epoch 32/100\n",
            "9/9 [==============================] - 9s 959ms/step - loss: 0.3984 - accuracy: 0.8807 - val_loss: 0.2885 - val_accuracy: 0.9171\n",
            "Epoch 33/100\n",
            "9/9 [==============================] - 9s 956ms/step - loss: 0.4644 - accuracy: 0.8627 - val_loss: 0.2155 - val_accuracy: 0.9401\n",
            "Epoch 34/100\n",
            "9/9 [==============================] - 9s 957ms/step - loss: 0.3667 - accuracy: 0.8912 - val_loss: 0.3060 - val_accuracy: 0.9119\n",
            "Epoch 35/100\n",
            "9/9 [==============================] - 9s 959ms/step - loss: 0.2882 - accuracy: 0.9118 - val_loss: 0.1850 - val_accuracy: 0.9493\n",
            "Epoch 36/100\n",
            "9/9 [==============================] - 9s 964ms/step - loss: 0.2713 - accuracy: 0.9180 - val_loss: 0.1624 - val_accuracy: 0.9538\n",
            "Epoch 37/100\n",
            "9/9 [==============================] - 9s 961ms/step - loss: 0.2755 - accuracy: 0.9180 - val_loss: 0.2744 - val_accuracy: 0.9280\n",
            "Epoch 38/100\n",
            "9/9 [==============================] - 9s 965ms/step - loss: 0.2114 - accuracy: 0.9353 - val_loss: 0.1382 - val_accuracy: 0.9610\n",
            "Epoch 39/100\n",
            "9/9 [==============================] - 9s 964ms/step - loss: 0.2204 - accuracy: 0.9349 - val_loss: 0.1202 - val_accuracy: 0.9665\n",
            "Epoch 40/100\n",
            "9/9 [==============================] - 9s 971ms/step - loss: 0.1505 - accuracy: 0.9537 - val_loss: 0.1255 - val_accuracy: 0.9664\n",
            "Epoch 41/100\n",
            "9/9 [==============================] - 9s 962ms/step - loss: 0.2195 - accuracy: 0.9337 - val_loss: 0.1711 - val_accuracy: 0.9526\n",
            "Epoch 42/100\n",
            "9/9 [==============================] - 9s 959ms/step - loss: 0.1318 - accuracy: 0.9591 - val_loss: 0.1021 - val_accuracy: 0.9717\n",
            "Epoch 43/100\n",
            "9/9 [==============================] - 9s 962ms/step - loss: 0.1224 - accuracy: 0.9640 - val_loss: 0.1316 - val_accuracy: 0.9649\n",
            "Epoch 44/100\n",
            "9/9 [==============================] - 9s 964ms/step - loss: 0.1381 - accuracy: 0.9568 - val_loss: 0.1107 - val_accuracy: 0.9688\n",
            "Epoch 45/100\n",
            "9/9 [==============================] - 9s 963ms/step - loss: 0.0890 - accuracy: 0.9717 - val_loss: 0.1003 - val_accuracy: 0.9725\n",
            "Epoch 46/100\n",
            "9/9 [==============================] - 9s 976ms/step - loss: 0.1309 - accuracy: 0.9608 - val_loss: 0.0903 - val_accuracy: 0.9754\n",
            "Epoch 47/100\n",
            "9/9 [==============================] - 9s 965ms/step - loss: 0.0750 - accuracy: 0.9758 - val_loss: 0.0867 - val_accuracy: 0.9773\n",
            "Epoch 48/100\n",
            "9/9 [==============================] - 9s 964ms/step - loss: 0.1766 - accuracy: 0.9474 - val_loss: 0.0743 - val_accuracy: 0.9810\n",
            "Epoch 49/100\n",
            "9/9 [==============================] - 9s 965ms/step - loss: 0.0516 - accuracy: 0.9837 - val_loss: 0.0749 - val_accuracy: 0.9805\n",
            "Epoch 50/100\n",
            "9/9 [==============================] - 9s 965ms/step - loss: 0.0581 - accuracy: 0.9815 - val_loss: 0.0766 - val_accuracy: 0.9805\n",
            "Epoch 51/100\n",
            "9/9 [==============================] - 9s 967ms/step - loss: 0.0574 - accuracy: 0.9810 - val_loss: 0.0963 - val_accuracy: 0.9762\n",
            "Epoch 52/100\n",
            "9/9 [==============================] - 9s 964ms/step - loss: 0.1182 - accuracy: 0.9654 - val_loss: 0.0686 - val_accuracy: 0.9825\n",
            "Epoch 53/100\n",
            "9/9 [==============================] - 9s 964ms/step - loss: 0.0426 - accuracy: 0.9860 - val_loss: 0.0801 - val_accuracy: 0.9806\n",
            "Epoch 54/100\n",
            "9/9 [==============================] - 9s 963ms/step - loss: 0.0411 - accuracy: 0.9865 - val_loss: 0.0742 - val_accuracy: 0.9822\n",
            "Epoch 55/100\n",
            "9/9 [==============================] - 9s 966ms/step - loss: 0.0581 - accuracy: 0.9813 - val_loss: 0.0865 - val_accuracy: 0.9784\n",
            "Epoch 56/100\n",
            "9/9 [==============================] - 9s 970ms/step - loss: 0.0614 - accuracy: 0.9809 - val_loss: 0.0656 - val_accuracy: 0.9833\n",
            "Epoch 57/100\n",
            "9/9 [==============================] - 9s 977ms/step - loss: 0.0358 - accuracy: 0.9878 - val_loss: 0.0944 - val_accuracy: 0.9777\n",
            "Epoch 58/100\n",
            "9/9 [==============================] - 9s 967ms/step - loss: 0.0527 - accuracy: 0.9835 - val_loss: 0.0678 - val_accuracy: 0.9828\n",
            "Epoch 59/100\n",
            "9/9 [==============================] - 9s 965ms/step - loss: 0.0333 - accuracy: 0.9896 - val_loss: 0.1006 - val_accuracy: 0.9759\n",
            "Epoch 60/100\n",
            "9/9 [==============================] - 9s 967ms/step - loss: 0.0688 - accuracy: 0.9789 - val_loss: 0.0692 - val_accuracy: 0.9833\n",
            "Epoch 61/100\n",
            "9/9 [==============================] - 9s 973ms/step - loss: 0.0253 - accuracy: 0.9917 - val_loss: 0.0679 - val_accuracy: 0.9841\n",
            "<keras.callbacks.History object at 0x7fea0e817390>\n",
            "dict_keys(['loss', 'accuracy', 'val_loss', 'val_accuracy'])\n"
          ]
        }
      ],
      "source": [
        "def create_diagram(model):\n",
        "    s = '{}'.format(model.optimizer).split(' ')[0].split('.')[-1]\n",
        "    print(s)\n",
        "    print('{:12s}{:>10s}{:>10s}{:>10s}{:>10s}{:>10s}{:>10s}'.format('class', 'input', 'output', 'units', 'params', 'activ', 'label'))\n",
        "    print('========================================================================')\n",
        "    modellabel = s + ':'\n",
        "    for nl, l in enumerate(model.layers):\n",
        "        s = '{}'.format(l).split(' ')[0].split('.')[-1]\n",
        "        print('{:12s}{:10d}'.format(s,l.input_shape[1]), end='')\n",
        "        print('{:10d}'.format(l.output_shape[1]), end='')\n",
        "        layerlabel = s[:2]\n",
        "        try:\n",
        "            layerlabel = f'{layerlabel}{l.units}'\n",
        "            print('{:10d}'.format(l.units), end='')\n",
        "        except:\n",
        "            print('{:10s}'.format(''), end='')\n",
        "        print('{:10d}'.format(l.count_params()), end='')\n",
        "        try:\n",
        "            s = '{}'.format(l.activation).split(' ')[1]\n",
        "            layerlabel = layerlabel + s[:3]\n",
        "            print('{:>10s}{:>10s}'.format(s, layerlabel))\n",
        "        except:\n",
        "            print('{:10s}{:>10s}'.format('', layerlabel))\n",
        "        modellabel = modellabel + layerlabel\n",
        "        if nl < len(model.layers)-1:\n",
        "            modellabel = modellabel + '|'\n",
        "    print('labelling this model as', modellabel,'\\n')\n",
        "    return modellabel\n",
        "\n",
        "    \n",
        "def compiletis(model, op):\n",
        "    model.compile(optimizer=op,\n",
        "                      loss='categorical_crossentropy',\n",
        "                   metrics=['accuracy'])\n",
        "    return model\n",
        "\n",
        "\n",
        "cb = callbacks.EarlyStopping(monitor='val_loss',\n",
        "                             min_delta=0,\n",
        "                             patience=5,\n",
        "                             verbose=0, \n",
        "                             mode='auto')\n",
        "\n",
        "def fittis(model, bs, ep):\n",
        "    tic = time.perf_counter()\n",
        "    history = model.fit(train_X, train_y, \n",
        "                        epochs=ep, batch_size=bs, \n",
        "                        validation_split=.3, verbose=1,\n",
        "                        callbacks = [cb])\n",
        "    \n",
        "    my_history = []\n",
        "    print(history)\n",
        "    history_dict = history.history\n",
        "    print(history_dict.keys())\n",
        "    \n",
        "    #plottis(history)\n",
        "    \n",
        "    train_acc = history.history['accuracy']\n",
        "    train_los = history.history['loss']\n",
        "    val_acc   = history.history['val_accuracy']\n",
        "    val_los   = history.history['val_loss']\n",
        "    return model, myhistory\n",
        "\n",
        "train_X=np_train\n",
        "train_y=train_y\n",
        "#train_X=\n",
        "myhistory = []\n",
        "model = compiletis(arch(), 'rmsprop')\n",
        "create_diagram(model)\n",
        "s = '{}'.format(model.layers[0])\n",
        "model, h = fittis(model, bs=4096, ep=100)\n",
        "myhistory.append(h)\n",
        "#RMSprop"
      ],
      "id": "76fb0957"
    },
    {
      "cell_type": "code",
      "source": [
        "\n",
        "model_errors = model.predict(train_X)\n",
        "predictions = np.argmax(model_errors, axis=1)\n",
        "print('np.argmax(a, axis=1): {0}'.format(np.argmax(model_errors, axis=1)))\n",
        "print((y_train[0]))\n",
        "for i in range(0, len(predictions)):\n",
        "  if predictions[i] != y_train[i]:\n",
        "    print(i)"
      ],
      "metadata": {
        "id": "ikXJgCm9PMsd"
      },
      "id": "ikXJgCm9PMsd",
      "execution_count": null,
      "outputs": []
    },
    {
      "cell_type": "code",
      "source": [
        "train_X[2192].shape"
      ],
      "metadata": {
        "colab": {
          "base_uri": "https://localhost:8080/"
        },
        "id": "ZRyg1zLFBA31",
        "outputId": "012e7b0a-fe39-451b-df56-55c303b79a30"
      },
      "id": "ZRyg1zLFBA31",
      "execution_count": 78,
      "outputs": [
        {
          "output_type": "execute_result",
          "data": {
            "text/plain": [
              "(28, 56, 1)"
            ]
          },
          "metadata": {},
          "execution_count": 78
        }
      ]
    },
    {
      "cell_type": "code",
      "source": [
        "def pixel_mat(vec, dim1, dim2):\n",
        "    pixel_mat = vec.reshape(dim1, dim2)\n",
        "    return pixel_mat"
      ],
      "metadata": {
        "id": "ttjhAunkB-ME"
      },
      "id": "ttjhAunkB-ME",
      "execution_count": 79,
      "outputs": []
    },
    {
      "cell_type": "code",
      "source": [
        "plt.matshow(pixel_mat(train_X[2192], 28, 56), cmap=plt.cm.gray)\n",
        "plt.title(\"Predicted Label: {}, Ground Truth: {}\".format(predictions[2192],y_train[2192] ))\n",
        "plt.show()\n",
        "\n",
        "plt.matshow(pixel_mat(train_X[49803], 28, 56), cmap=plt.cm.gray)\n",
        "plt.title(\"Predicted Label: {}, Ground Truth: {}\".format(predictions[49803],y_train[49803] ))\n",
        "plt.show()\n",
        "\n",
        "plt.matshow(pixel_mat(train_X[49765], 28, 56), cmap=plt.cm.gray)\n",
        "plt.title(\"Predicted Label: {}, Ground Truth: {}\".format(predictions[49765],y_train[49765] ))\n",
        "plt.show()"
      ],
      "metadata": {
        "colab": {
          "base_uri": "https://localhost:8080/",
          "height": 821
        },
        "id": "3OdtnYjJ-pUp",
        "outputId": "b15bdf6a-8648-4046-fbea-bda1199ee692"
      },
      "id": "3OdtnYjJ-pUp",
      "execution_count": 86,
      "outputs": [
        {
          "output_type": "display_data",
          "data": {
            "text/plain": [
              "<Figure size 576x288 with 1 Axes>"
            ],
            "image/png": "[encoded data removed]"
          },
          "metadata": {
            "needs_background": "light"
          }
        },
        {
          "output_type": "display_data",
          "data": {
            "text/plain": [
              "<Figure size 576x288 with 1 Axes>"
            ],
            "image/png": "[encoded data removed]"
          },
          "metadata": {
            "needs_background": "light"
          }
        },
        {
          "output_type": "display_data",
          "data": {
            "text/plain": [
              "<Figure size 576x288 with 1 Axes>"
            ],
            "image/png": "[encoded data removed]"
          },
          "metadata": {
            "needs_background": "light"
          }
        }
      ]
    },
    {
      "cell_type": "markdown",
      "source": [
        "# More Advanced Models"
      ],
      "metadata": {
        "id": "yW2s01SnxAlK"
      },
      "id": "yW2s01SnxAlK"
    },
    {
      "cell_type": "code",
      "execution_count": null,
      "metadata": {
        "id": "onwLCJYHcZ9B"
      },
      "outputs": [],
      "source": [
        "# example of creating a CNN with an efficient inception module\n",
        "#from keras import keras\n",
        "from keras.models import Model\n",
        "from keras.layers import Input\n",
        "from keras.layers import Conv2D\n",
        "from keras.layers import MaxPooling2D\n",
        "from keras.layers import concatenate\n",
        "from keras.utils import plot_model\n",
        "\n",
        "\n",
        "def vggnn():\n",
        "# function for creating a projected inception module\n",
        "  def inception_module(layer_in, f1, f2_in, f2_out, f3_in, f3_out, f4_out):\n",
        "    # 1x1 conv\n",
        "    conv1 = Conv2D(f1, (1,1), padding='same', activation='relu')(layer_in)\n",
        "    # 3x3 conv\n",
        "    conv3 = Conv2D(f2_in, (1,1), padding='same', activation='relu')(layer_in)\n",
        "    conv3 = Conv2D(f2_out, (3,3), padding='same', activation='relu')(conv3)\n",
        "    # 5x5 conv\n",
        "    conv5 = Conv2D(f3_in, (1,1), padding='same', activation='relu')(layer_in)\n",
        "    conv5 = Conv2D(f3_out, (5,5), padding='same', activation='relu')(conv5)\n",
        "    # 3x3 max pooling\n",
        "    pool = MaxPooling2D((3,3), strides=(1,1), padding='same')(layer_in)\n",
        "    pool = Conv2D(f4_out, (1,1), padding='same', activation='relu')(pool)\n",
        "    # concatenate filters, assumes filters/channels last\n",
        "    layer_out = concatenate([conv1, conv3, conv5, pool], axis=-1)\n",
        "    return layer_out\n",
        "  \n",
        "  # define model input\n",
        "  visible = Input(shape=(256, 256, 3))\n",
        "  # add inception block 1\n",
        "  layer = inception_module(visible, 64, 96, 128, 16, 32, 32)\n",
        "  # add inception block 1\n",
        "  layer = inception_module(layer, 128, 128, 192, 32, 96, 64)\n",
        "  # create model\n",
        "  model = Model(inputs=visible, outputs=layer)\n",
        "  #model.add(layers.Dense(nclasses, activation='softmax'))\n",
        "  # summarize model\n",
        "  model.summary()\n",
        "  return model "
      ],
      "id": "onwLCJYHcZ9B"
    },
    {
      "cell_type": "code",
      "source": [
        "import numpy as np\n",
        "# import the models for further classification experiments\n",
        "from tensorflow.keras.applications import (\n",
        "        vgg16,\n",
        "        resnet50,\n",
        "        mobilenet,\n",
        "        inception_v3\n",
        "    )\n",
        " \n",
        "# init the models\n",
        "vgg_model = vgg16.VGG16(weights='imagenet')\n",
        " \n",
        "inception_model = inception_v3.InceptionV3(weights='imagenet')\n",
        " \n",
        "resnet_model = resnet50.ResNet50(weights='imagenet')\n",
        " \n",
        "mobilenet_model = mobilenet.MobileNet(weights='imagenet')"
      ],
      "metadata": {
        "id": "gkTcCqzF_dxf"
      },
      "id": "gkTcCqzF_dxf",
      "execution_count": null,
      "outputs": []
    },
    {
      "cell_type": "markdown",
      "source": [
        "# Evaluating our Model's Performance"
      ],
      "metadata": {
        "id": "cd-RWb5f_Nb2"
      },
      "id": "cd-RWb5f_Nb2"
    },
    {
      "cell_type": "code",
      "source": [
        "output_dropout_layers = model.predict(np_test)"
      ],
      "metadata": {
        "id": "U0vIkxuL_V_g"
      },
      "id": "U0vIkxuL_V_g",
      "execution_count": null,
      "outputs": []
    },
    {
      "cell_type": "code",
      "execution_count": null,
      "metadata": {
        "colab": {
          "base_uri": "https://localhost:8080/"
        },
        "id": "d0e3bb4b",
        "outputId": "ea41033a-5a22-4cb4-b256-ded455fb3419"
      },
      "outputs": [
        {
          "name": "stdout",
          "output_type": "stream",
          "text": [
            "313/313 [==============================] - 1s 3ms/step\n"
          ]
        }
      ],
      "source": [
        "output_dropout_layers = model.predict(np_test)"
      ],
      "id": "d0e3bb4b"
    },
    {
      "cell_type": "code",
      "execution_count": null,
      "metadata": {
        "colab": {
          "base_uri": "https://localhost:8080/"
        },
        "id": "86c64d48",
        "outputId": "c0eed2e2-2245-45c2-e436-d22da7a154cb"
      },
      "outputs": [
        {
          "name": "stdout",
          "output_type": "stream",
          "text": [
            "313/313 [==============================] - 1s 3ms/step\n"
          ]
        }
      ],
      "source": [
        "output = model.predict(np_test)"
      ],
      "id": "86c64d48"
    },
    {
      "cell_type": "code",
      "execution_count": null,
      "metadata": {
        "colab": {
          "base_uri": "https://localhost:8080/"
        },
        "id": "2822c40a",
        "outputId": "f72ebdcc-0449-4bbb-904a-298ebec3b54c"
      },
      "outputs": [
        {
          "name": "stdout",
          "output_type": "stream",
          "text": [
            "np.argmax(a, axis=1): [14  7 10 ... 10  4  6]\n"
          ]
        }
      ],
      "source": [
        "print('np.argmax(a, axis=1): {0}'.format(np.argmax(output, axis=1)))"
      ],
      "id": "2822c40a"
    },
    {
      "cell_type": "code",
      "execution_count": null,
      "metadata": {
        "id": "e82046e1"
      },
      "outputs": [],
      "source": [
        "file = open(\"/content/drive/MyDrive/Colab Notebooks/cnn_predictions_larger_model_dropout_larger_kernel_98.csv\",\"a\")\n",
        "\n",
        "file.write(\"Index,Class\\n\")\n",
        "count = 0 \n",
        "for prediction in np.argmax(output_dropout_layers, axis=1):\n",
        "    file.write(str(count) + \",\" + str(prediction) + \"\\n\")\n",
        "    count = count + 1 \n",
        "file.close()"
      ],
      "id": "e82046e1"
    },
    {
      "cell_type": "markdown",
      "source": [
        "# Training Results\n",
        "\n",
        "I was having issue with the kernal discconecting so I saved my training results"
      ],
      "metadata": {
        "id": "XbFgg-pFw9m6"
      },
      "id": "XbFgg-pFw9m6"
    },
    {
      "cell_type": "code",
      "execution_count": 9,
      "metadata": {
        "id": "873ca52f"
      },
      "outputs": [],
      "source": [
        "best_training_results = \"/content/drive/MyDrive/Colab Notebooks/logistic_regression/best_training.txt\""
      ],
      "id": "873ca52f"
    },
    {
      "cell_type": "markdown",
      "source": [],
      "metadata": {
        "id": "6R2HZiOowxUn"
      },
      "id": "6R2HZiOowxUn"
    },
    {
      "cell_type": "code",
      "source": [
        "with open(best_training_results) as f:\n",
        "  train_loss = []\n",
        "  val_loss = []\n",
        "  val_accuracy = []\n",
        "  train_accuracy = []\n",
        "  y = []\n",
        "  count = 0 \n",
        "  for line in f:\n",
        "    line_output = line.split(\"-\")\n",
        "    if len(line_output) > 1:\n",
        "      count = count + 1\n",
        "      training_loss = float(line_output[2].split(\":\")[1].replace(\" \", \"\"))\n",
        "      training_acc = float(line_output[3].split(\":\")[1].replace(\" \", \"\"))\n",
        "      validation_loss = float(line_output[4].split(\":\")[1].replace(\" \", \"\"))\n",
        "      validation_acc = float(line_output[5].split(\":\")[1].replace(\" \", \"\"))\n",
        "      train_loss.append(training_loss)\n",
        "      val_loss.append(validation_loss)\n",
        "      train_accuracy.append(training_acc)\n",
        "      val_accuracy.append(validation_acc)\n",
        "      y.append(count)"
      ],
      "metadata": {
        "id": "XbZThxcMwhfg"
      },
      "id": "XbZThxcMwhfg",
      "execution_count": 42,
      "outputs": []
    },
    {
      "cell_type": "code",
      "source": [
        "import matplotlib.pyplot as plt\n",
        "plt.title(\"Training \")\n",
        "plt.figure(figsize=(12, 4))\n",
        "plt.subplot(121)\n",
        "plt.plot(y, train_loss , label='training loss')\n",
        "plt.plot(y, val_loss, label='validation loss')\n",
        "plt.legend()\n",
        "plt.xlabel('epoch')\n",
        "plt.ylabel('loss')\n",
        "\n",
        "plt.title(\"Training Loss & Training Accuracy\")\n",
        "plt.figure(figsize=(12, 4))\n",
        "plt.subplot(121)\n",
        "plt.plot(y, train_accuracy , label='training accuracy')\n",
        "plt.plot(y, val_accuracy, label='validation accuracy')\n",
        "plt.legend()\n",
        "plt.xlabel('epoch')\n",
        "plt.ylabel('accuracy')\n"
      ],
      "metadata": {
        "colab": {
          "base_uri": "https://localhost:8080/",
          "height": 839
        },
        "id": "xgtEBNVawnb4",
        "outputId": "3b263825-260f-49e4-9508-b746012fecc4"
      },
      "id": "xgtEBNVawnb4",
      "execution_count": 58,
      "outputs": [
        {
          "output_type": "execute_result",
          "data": {
            "text/plain": [
              "Text(0, 0.5, 'accuracy')"
            ]
          },
          "metadata": {},
          "execution_count": 58
        },
        {
          "output_type": "display_data",
          "data": {
            "text/plain": [
              "<Figure size 432x288 with 1 Axes>"
            ],
            "image/png": "[encoded data removed]"
          },
          "metadata": {
            "needs_background": "light"
          }
        },
        {
          "output_type": "display_data",
          "data": {
            "text/plain": [
              "<Figure size 864x288 with 1 Axes>"
            ],
            "image/png": "[encoded data removed]"
          },
          "metadata": {
            "needs_background": "light"
          }
        },
        {
          "output_type": "display_data",
          "data": {
            "text/plain": [
              "<Figure size 864x288 with 1 Axes>"
            ],
            "image/png": "[encoded data removed]"
          },
          "metadata": {
            "needs_background": "light"
          }
        }
      ]
    },
    {
      "cell_type": "code",
      "source": [],
      "metadata": {
        "id": "xxaz-wNyzJy1"
      },
      "id": "xxaz-wNyzJy1",
      "execution_count": null,
      "outputs": []
    }
  ],
  "metadata": {
    "accelerator": "GPU",
    "colab": {
      "collapsed_sections": [],
      "provenance": []
    },
    "kernelspec": {
      "display_name": "Python 3 (ipykernel)",
      "language": "python",
      "name": "python3"
    },
    "language_info": {
      "codemirror_mode": {
        "name": "ipython",
        "version": 3
      },
      "file_extension": ".py",
      "mimetype": "text/x-python",
      "name": "python",
      "nbconvert_exporter": "python",
      "pygments_lexer": "ipython3",
      "version": "3.9.2"
    },
    "gpuClass": "standard"
  },
  "nbformat": 4,
  "nbformat_minor": 5
}